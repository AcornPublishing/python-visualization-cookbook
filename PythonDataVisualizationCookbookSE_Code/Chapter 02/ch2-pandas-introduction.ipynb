{
 "cells": [
  {
   "cell_type": "code",
   "execution_count": 1,
   "metadata": {
    "collapsed": false
   },
   "outputs": [
    {
     "name": "stderr",
     "output_type": "stream",
     "text": [
      "/Users/jay/Documents/CEDL/pyenv/lib/python2.7/site-packages/pandas/io/excel.py:626: UserWarning: Installed openpyxl is not supported at this time. Use >=1.6.1 and <2.0.0.\n",
      "  .format(openpyxl_compat.start_ver, openpyxl_compat.stop_ver))\n"
     ]
    }
   ],
   "source": [
    "import pandas as pd"
   ]
  },
  {
   "cell_type": "code",
   "execution_count": 62,
   "metadata": {
    "collapsed": false
   },
   "outputs": [
    {
     "name": "stdout",
     "output_type": "stream",
     "text": [
      "          day  ammount  amount_x_2\n",
      "0  2013-01-24      323         646\n",
      "1  2013-01-25      233         466\n",
      "2  2013-01-26      433         866\n",
      "3  2013-01-27      555        1110\n",
      "4  2013-01-28      123         246\n",
      "5  2013-01-29        0           0\n",
      "6  2013-01-30      221         442\n"
     ]
    }
   ],
   "source": [
    "data = pd.read_csv('ch02-data.csv')\n",
    "data['amount_x_2'] = data['ammount']*2\n",
    "data.to_csv('ch02-data_more.csv)"
   ]
  },
  {
   "cell_type": "code",
   "execution_count": 59,
   "metadata": {
    "collapsed": false
   },
   "outputs": [
    {
     "name": "stdout",
     "output_type": "stream",
     "text": [
      "0    323\n",
      "1    233\n",
      "2    433\n",
      "3    555\n",
      "4    123\n",
      "5      0\n",
      "6    221\n",
      "Name: ammount, dtype: int64\n"
     ]
    }
   ],
   "source": [
    "print data.ammount"
   ]
  },
  {
   "cell_type": "code",
   "execution_count": 72,
   "metadata": {
    "collapsed": false
   },
   "outputs": [
    {
     "data": {
      "text/html": [
       "<div style=\"max-height:1000px;max-width:1500px;overflow:auto;\">\n",
       "<table border=\"1\" class=\"dataframe\">\n",
       "  <thead>\n",
       "    <tr style=\"text-align: right;\">\n",
       "      <th></th>\n",
       "      <th>day</th>\n",
       "      <th>amount</th>\n",
       "    </tr>\n",
       "  </thead>\n",
       "  <tbody>\n",
       "    <tr>\n",
       "      <th>0</th>\n",
       "      <td> 2013-01-24</td>\n",
       "      <td> 323</td>\n",
       "    </tr>\n",
       "    <tr>\n",
       "      <th>1</th>\n",
       "      <td> 2013-01-25</td>\n",
       "      <td> 233</td>\n",
       "    </tr>\n",
       "    <tr>\n",
       "      <th>2</th>\n",
       "      <td> 2013-01-26</td>\n",
       "      <td> 433</td>\n",
       "    </tr>\n",
       "    <tr>\n",
       "      <th>3</th>\n",
       "      <td> 2013-01-27</td>\n",
       "      <td> 555</td>\n",
       "    </tr>\n",
       "    <tr>\n",
       "      <th>4</th>\n",
       "      <td> 2013-01-28</td>\n",
       "      <td> 123</td>\n",
       "    </tr>\n",
       "    <tr>\n",
       "      <th>5</th>\n",
       "      <td> 2013-01-29</td>\n",
       "      <td>   0</td>\n",
       "    </tr>\n",
       "    <tr>\n",
       "      <th>6</th>\n",
       "      <td> 2013-01-30</td>\n",
       "      <td> 221</td>\n",
       "    </tr>\n",
       "  </tbody>\n",
       "</table>\n",
       "</div>"
      ],
      "text/plain": [
       "          day  amount\n",
       "0  2013-01-24     323\n",
       "1  2013-01-25     233\n",
       "2  2013-01-26     433\n",
       "3  2013-01-27     555\n",
       "4  2013-01-28     123\n",
       "5  2013-01-29       0\n",
       "6  2013-01-30     221"
      ]
     },
     "execution_count": 72,
     "metadata": {},
     "output_type": "execute_result"
    }
   ],
   "source": [
    "pd.read_csv('ch02-data.tab', skiprows=1, delimiter=' *', names=['day','amount'])"
   ]
  },
  {
   "cell_type": "code",
   "execution_count": 61,
   "metadata": {
    "collapsed": false
   },
   "outputs": [
    {
     "name": "stdout",
     "output_type": "stream",
     "text": [
      "(7, 2)\n"
     ]
    }
   ],
   "source": [
    "print data.shape"
   ]
  },
  {
   "cell_type": "code",
   "execution_count": 40,
   "metadata": {
    "collapsed": false
   },
   "outputs": [
    {
     "name": "stdout",
     "output_type": "stream",
     "text": [
      "        col1           col2  col3\n",
      "0  161322597   386544351896    42\n",
      "1  296411327  6945080785634  2301\n",
      "2  164726383  4090941067228  5553\n",
      "3  575768002  4862349192103  5643\n",
      "4  483535208  6007251611732  4649\n"
     ]
    }
   ],
   "source": [
    "data = pd.read_csv('ch02-fixed-width-1M.data', delimiter=' ',\n",
    "                  names=['col1', 'col2', 'col3'])\n",
    "print data.head()"
   ]
  },
  {
   "cell_type": "code",
   "execution_count": 53,
   "metadata": {
    "collapsed": false
   },
   "outputs": [
    {
     "name": "stdout",
     "output_type": "stream",
     "text": [
      "{u'avatar_url': u'https://avatars.githubusercontent.com/u/4929177?v=3',\n",
      " u'bio': None,\n",
      " u'blog': u'http://glowingpython.blogspot.com/',\n",
      " u'company': u'Cambridge Energy Data Lab',\n",
      " u'created_at': u'2013-07-03T10:07:22Z',\n",
      " u'email': u'',\n",
      " u'events_url': u'https://api.github.com/users/JustGlowing/events{/privacy}',\n",
      " u'followers': 7,\n",
      " u'followers_url': u'https://api.github.com/users/JustGlowing/followers',\n",
      " u'following': 1,\n",
      " u'following_url': u'https://api.github.com/users/JustGlowing/following{/other_user}',\n",
      " u'gists_url': u'https://api.github.com/users/JustGlowing/gists{/gist_id}',\n",
      " u'gravatar_id': u'',\n",
      " u'hireable': False,\n",
      " u'html_url': u'https://github.com/JustGlowing',\n",
      " u'id': 4929177,\n",
      " u'location': u'Cambridge, Uk',\n",
      " u'login': u'JustGlowing',\n",
      " u'name': u'',\n",
      " u'organizations_url': u'https://api.github.com/users/JustGlowing/orgs',\n",
      " u'public_gists': 1,\n",
      " u'public_repos': 5,\n",
      " u'received_events_url': u'https://api.github.com/users/JustGlowing/received_events',\n",
      " u'repos_url': u'https://api.github.com/users/JustGlowing/repos',\n",
      " u'site_admin': False,\n",
      " u'starred_url': u'https://api.github.com/users/JustGlowing/starred{/owner}{/repo}',\n",
      " u'subscriptions_url': u'https://api.github.com/users/JustGlowing/subscriptions',\n",
      " u'type': u'User',\n",
      " u'updated_at': u'2015-04-27T11:03:31Z',\n",
      " u'url': u'https://api.github.com/users/JustGlowing'}\n"
     ]
    },
    {
     "name": "stderr",
     "output_type": "stream",
     "text": [
      "/Users/jay/Documents/CEDL/pyenv/lib/python2.7/site-packages/requests/packages/urllib3/util/ssl_.py:79: InsecurePlatformWarning: A true SSLContext object is not available. This prevents urllib3 from configuring SSL appropriately and may cause certain SSL connections to fail. For more information, see https://urllib3.readthedocs.org/en/latest/security.html#insecureplatformwarning.\n",
      "  InsecurePlatformWarning\n"
     ]
    }
   ],
   "source": [
    "import requests\n",
    "from pprint import pprint\n",
    "url = 'https://api.github.com/users/justglowing'\n",
    "r = requests.get(url)\n",
    "json_obj = r.json()\n",
    "pprint(json_obj)"
   ]
  },
  {
   "cell_type": "code",
   "execution_count": 54,
   "metadata": {
    "collapsed": false
   },
   "outputs": [
    {
     "data": {
      "text/plain": [
       "u'Cambridge, Uk'"
      ]
     },
     "execution_count": 54,
     "metadata": {},
     "output_type": "execute_result"
    }
   ],
   "source": [
    "json_obj['location']"
   ]
  },
  {
   "cell_type": "code",
   "execution_count": null,
   "metadata": {
    "collapsed": true
   },
   "outputs": [],
   "source": []
  }
 ],
 "metadata": {
  "kernelspec": {
   "display_name": "Python 2",
   "language": "python",
   "name": "python2"
  },
  "language_info": {
   "codemirror_mode": {
    "name": "ipython",
    "version": 2
   },
   "file_extension": ".py",
   "mimetype": "text/x-python",
   "name": "python",
   "nbconvert_exporter": "python",
   "pygments_lexer": "ipython2",
   "version": "2.7.8"
  }
 },
 "nbformat": 4,
 "nbformat_minor": 0
}
